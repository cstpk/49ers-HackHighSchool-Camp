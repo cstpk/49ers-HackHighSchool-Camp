import 49_ers 

player_lat_long = pd.read_csv('player_file.csv')

data = [dict(
   type = 'scattergeo',
    locationmode = 'USA-states',
    lon = player_lat_long['Longitude'],
    lat = player_lat_long['Latitude'],
    text = player_lat_long['Player'] + ' ' + player_lat_long['Location'],
    mode = 'markers'
    )]

layout = dict(
    title = '49ers',
    geo = dict(
      scope='usa',
      projection=dict( type='albers usa' ),
      showland = True,
      landcolor = "rgb(250, 250, 250)",
      subunitcolor = "rgb(217, 217, 217)",
      countrycolor = "rgb(217, 217, 217)",
      countrywidth = 0.5,
      subunitwidth = 0.5
      )
)

fig = dict(data=data, layout=layout)
py.plot(fig, validate=False, filename='player_file.csv')
