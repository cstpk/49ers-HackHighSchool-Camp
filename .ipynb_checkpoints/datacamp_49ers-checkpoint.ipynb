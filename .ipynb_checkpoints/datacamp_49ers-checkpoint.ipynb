{
 "cells": [
  {
   "cell_type": "markdown",
   "metadata": {},
   "source": [
    "<div style=\"font-family: 'Courier', Courier New, monospace; font-weigth: 400; text-align: center\";>\n",
    "    <h1 >Hack High School Data Camp + 49ers</h1>\n",
    "    <p style=\"font-size: 18px\">This jupyter notebook contains part of the curriculum of a data camp done by Hack High School in partnership with the San Francisco 49ers. The goal of the project was to teach high schoolers Python, web scraping and data visualization. </p><div>"
   ]
  },
  {
   "cell_type": "markdown",
   "metadata": {},
   "source": [
    "<p style=\"font-family: 'Courier', Courier New, monospace; font-size: 15px\">We are going to use the data on the <a src=\"https://www.49ers.com/team/players-roster/\">49ers website</a> to gather insights about their team and create interesting visualizations!</p>"
   ]
  },
  {
   "cell_type": "markdown",
   "metadata": {},
   "source": [
    "<p style=\"font-family: 'Courier', Courier New, monospace; font-size: 15px\">First, we need a quick refresher on how the internet works and what happens when you navigate to an url. The Internet is a giant network of computers connected to each other.</p>\n"
   ]
  },
  {
   "cell_type": "markdown",
   "metadata": {},
   "source": [
    "<img style=\"max-height: 200px\" src=\"https://upload.wikimedia.org/wikipedia/commons/thumb/c/c9/Client-server-model.svg/1280px-Client-server-model.svg.png\">"
   ]
  },
  {
   "cell_type": "markdown",
   "metadata": {},
   "source": [
    "<p style=\"font-family: 'Courier', Courier New, monospace; font-size: 15px\">In orther for communication between computers to happen, a couple of rules (protocols) need to be in place. Each computer needs an IP address, which works as an unique id. The internet also relies on an application structure called client-server model. In this context, clients are applications that request services from servers. A website's url is in fact a \"nickname\" for a server's IP adress. So when you go to http://www.example.com, your browser is a client application making an HTTP request to a web server. If everything goes as expected and the request is accepted, the server sends an HTTP response status code of 200, and the contents of the page are displayed by your browser.</p>"
   ]
  },
  {
   "cell_type": "markdown",
   "metadata": {},
   "source": [
    "<p style=\"font-family: 'Courier', Courier New, monospace; font-size: 15px\">This was a very high level overview, and we suggest you to watch this <a src=\"http://www.youtube.com/watch?v=Dxcc6ycZ73M\">video</a> series by Code.org</p>"
   ]
  },
  {
   "cell_type": "markdown",
   "metadata": {},
   "source": [
    "<p style=\"font-family: 'Courier', Courier New, monospace; font-size: 15px\">Let's get started by importing the Python library that will allow us to make requests to web servers.</p>"
   ]
  },
  {
   "cell_type": "code",
   "execution_count": 16,
   "metadata": {},
   "outputs": [],
   "source": [
    "import requests\n",
    "import lxml.html as lh\n",
    "import pandas as pd"
   ]
  },
  {
   "cell_type": "code",
   "execution_count": 59,
   "metadata": {},
   "outputs": [],
   "source": [
    "r = requests.get('https://www.49ers.com/team/players-roster/').text\n",
    "# doc = lh.from(r.content)\n",
    "\n",
    "#Parse data that are stored between <tr>..</tr> of HTML\n",
    "# tr_elements = doc.xpath('//tr')\n",
    "\n",
    "# tables = pd.read_html(\"https://www.49ers.com/team/players-roster/\", header=0, parse_dates=[\"Player\"])\n",
    "# from urllib import urlopen\n",
    "# # print(tables.to_csv(\"calls.csv\", index=False))\n",
    "# shipUrl = 'http://www.veristar.com/portal/veristarinfo/generalinfo/registers/seaGoingShips?portal:componentId=p_efff31ac-af4c-4e89-83bc-55e6d477d131&interactionstate=JBPNS_rO0ABXdRAAZudW1iZXIAAAABAAYwODkxME0AFGphdmF4LnBvcnRsZXQuYWN0aW9uAAAAAQAYc2hpcFNlYXJjaFJlc3VsdHNTZXRTaGlwAAdfX0VPRl9f&portal:type=action&portal:isSecure=false'\n",
    "# shipPage = urlopen(shipUrl)\n",
    "from bs4 import BeautifulSoup\n",
    "soup = BeautifulSoup(r, 'lxml')\n",
    "table_body = mytable.find('tbody')\n",
    "# print(table_body)\n",
    "table = soup.find_all(\"table\", {\"class\": \"d3-o-table\"})\n",
    "tdlist = []\n",
    "for mytable in table:\n",
    "    table_body = mytable.find('tbody')\n",
    "    try:\n",
    "        rows = table_body.find_all('tr')\n",
    "        for tr in rows:\n",
    "            cols = tr.find_all('td')\n",
    "            for td in rows:\n",
    "                tdlist.append(td)\n",
    "#                 print(td.text + \"  hi\")\n",
    "    except:\n",
    "        print(\"no tbody\")\n"
   ]
  },
  {
   "cell_type": "code",
   "execution_count": 60,
   "metadata": {},
   "outputs": [
    {
     "name": "stderr",
     "output_type": "stream",
     "text": [
      "IOPub data rate exceeded.\n",
      "The notebook server will temporarily stop sending output\n",
      "to the client in order to avoid crashing it.\n",
      "To change this limit, set the config variable\n",
      "`--NotebookApp.iopub_data_rate_limit`.\n",
      "\n",
      "Current values:\n",
      "NotebookApp.iopub_data_rate_limit=1000000.0 (bytes/sec)\n",
      "NotebookApp.rate_limit_window=3.0 (secs)\n",
      "\n"
     ]
    }
   ],
   "source": [
    "print(tdlist)"
   ]
  },
  {
   "cell_type": "code",
   "execution_count": null,
   "metadata": {},
   "outputs": [],
   "source": [
    "\n",
    "from geopy.geocoders import Nominatim\n",
    "from players_dict import player_uni_dict\n",
    "import plotly.plotly as py\n",
    "import pandas as pd\n",
    "import csv\n",
    "\n",
    "def get_location(uni):\n",
    "    a = \"University of\"\n",
    "    b = \"University\"\n",
    "    geolocator = Nominatim(user_agent=\"my_map\")\n",
    "    location = geolocator.geocode(uni)\n",
    "    location2 = geolocator.geocode(a + uni)\n",
    "    location3 = geolocator.geocode(uni + b)\n",
    "\n",
    "    if location is not None:\n",
    "        return(location)\n",
    "    elif location2 is not None:\n",
    "        return(location2)\n",
    "    else:\n",
    "        return(location3)\n",
    "\n",
    "lat_long_dict = {}\n",
    "\n",
    "for player, university in player_uni_dict.items():\n",
    "    try:\n",
    "        location = get_location(university)\n",
    "        lat_long = {}\n",
    "        lat_long[\"latitude\"] = location.latitude\n",
    "        lat_long[\"longitude\"] = location.longitude\n",
    "        lat_long[\"location\"] = location\n",
    "        lat_long_dict[player] = lat_long\n",
    "    except Exception as e:\n",
    "        continue\n",
    "\n",
    "with open('player_file.csv', mode='w') as player_file:\n",
    "    player_writer = csv.writer(player_file, delimiter=',', quotechar='\"', quoting=csv.QUOTE_MINIMAL)\n",
    "    player_writer.writerow(['Player', 'Location', 'Latitude', 'Longitude'])\n",
    "    for player, latlong in lat_long_dict.items():\n",
    "        player_writer.writerow([player, latlong['location'], latlong['latitude'], latlong['longitude']])\n",
    "\n",
    "player_lat_long = pd.read_csv('player_file.csv')\n",
    "\n",
    "data = [dict(\n",
    "   type = 'scattergeo',\n",
    "    locationmode = 'USA-states',\n",
    "    lon = player_lat_long['Longitude'],\n",
    "    lat = player_lat_long['Latitude'],\n",
    "    text = player_lat_long['Player'] + ' ' + player_lat_long['Location'],\n",
    "    mode = 'markers'\n",
    "    )]\n",
    "\n",
    "layout = dict(\n",
    "    title = '49ers',\n",
    "    geo = dict(\n",
    "      scope='usa',\n",
    "      projection=dict( type='albers usa' ),\n",
    "      showland = True,\n",
    "      landcolor = \"rgb(250, 250, 250)\",\n",
    "      subunitcolor = \"rgb(217, 217, 217)\",\n",
    "      countrycolor = \"rgb(217, 217, 217)\",\n",
    "      countrywidth = 0.5,\n",
    "      subunitwidth = 0.5\n",
    "      )\n",
    ")\n",
    "\n",
    "fig = dict(data=data, layout=layout)\n",
    "py.plot(fig, validate=False, filename='player_file.csv')\n"
   ]
  }
 ],
 "metadata": {
  "kernelspec": {
   "display_name": "Python 3",
   "language": "python",
   "name": "python3"
  },
  "language_info": {
   "codemirror_mode": {
    "name": "ipython",
    "version": 3
   },
   "file_extension": ".py",
   "mimetype": "text/x-python",
   "name": "python",
   "nbconvert_exporter": "python",
   "pygments_lexer": "ipython3",
   "version": "3.7.1"
  }
 },
 "nbformat": 4,
 "nbformat_minor": 2
}
